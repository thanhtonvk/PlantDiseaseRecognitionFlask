{
 "cells": [
  {
   "cell_type": "code",
   "execution_count": 2,
   "metadata": {},
   "outputs": [],
   "source": [
    "knownWidths = [\n",
    "            0.5, 1.7, 1.8, 2.0, 35.0, 2.5, 3.0, 2.5, 3.0, 0.3,\n",
    "            0.4, 0.75, 0.25, 1.5, 0.3, 0.25, 0.4, 1.8, 1.2, 2.0,\n",
    "            4.0, 1.5, 1.5, 2.5, 0.3, 0.5, 0.4, 0.2, 0.4, 0.2,\n",
    "            1.5, 1.5, 0.3, 0.5, 0.7, 0.3, 0.8, 1.5,\n",
    "            0.4, 0.3, 0.1, 0.1, 0.2, 0.3, 0.3, 0.3, 0.2, 0.2,\n",
    "            0.4, 0.4, 0.4, 0.4, 0.6, 0.4, 0.4, 0.4, 0.5, 1.5,\n",
    "            0.4, 2.0, 1.0, 0.5, 1.5, 0.3, 0.1, 0.2, 0.2, 0.1,\n",
    "            0.5, 0.6, 0.6, 0.4, 0.5, 0.2, 0.2, 0.3, 0.2, 0.2,\n",
    "            0.4, 0.2\n",
    "   ]"
   ]
  },
  {
   "cell_type": "code",
   "execution_count": 3,
   "metadata": {},
   "outputs": [],
   "source": [
    "widthInImages = []\n",
    "for alpha in knownWidths:\n",
    "    widthInImage = 0\n",
    "    if (alpha == 0.1):\n",
    "        widthInImage = 20\n",
    "    if (alpha == 0.2):\n",
    "        widthInImage = 30\n",
    "    if (alpha == 0.25):\n",
    "        widthInImage = 50\n",
    "    if (alpha == 0.3):\n",
    "        widthInImage = 100\n",
    "    if (alpha == 0.4):\n",
    "        widthInImage = 110\n",
    "    if (alpha == 0.5):\n",
    "        widthInImage = 110\n",
    "    if (alpha == 0.6):\n",
    "        widthInImage = 120\n",
    "    if (alpha == 0.7):\n",
    "        widthInImage = 130\n",
    "    if (alpha == 0.75):\n",
    "        widthInImage = 130\n",
    "    if (alpha == 0.8):\n",
    "        widthInImage = 140\n",
    "    if (alpha == 1.0):\n",
    "        widthInImage = 140\n",
    "    if (alpha == 1.2):\n",
    "        widthInImage = 140\n",
    "    if (alpha == 1.5):\n",
    "        widthInImage = 150\n",
    "    if (alpha == 1.7):\n",
    "        widthInImage = 170\n",
    "    if (alpha == 1.8):\n",
    "        widthInImage = 170\n",
    "    if (alpha == 2.0):\n",
    "        widthInImage = 100\n",
    "    if (alpha == 2.5):\n",
    "        widthInImage = 220\n",
    "    if (alpha == 3.0):\n",
    "        widthInImage = 250\n",
    "    if (alpha == 4.0):\n",
    "        widthInImage = 300\n",
    "    if (alpha == 35):\n",
    "        widthInImage = 3000\n",
    "    widthInImages.append(widthInImage)"
   ]
  },
  {
   "cell_type": "code",
   "execution_count": 5,
   "metadata": {},
   "outputs": [
    {
     "name": "stdout",
     "output_type": "stream",
     "text": [
      "[110, 170, 170, 100, 3000, 220, 250, 220, 250, 100, 110, 130, 50, 150, 100, 50, 110, 170, 140, 100, 300, 150, 150, 220, 100, 110, 110, 30, 110, 30, 150, 150, 100, 110, 130, 100, 140, 150, 110, 100, 20, 20, 30, 100, 100, 100, 30, 30, 110, 110, 110, 110, 120, 110, 110, 110, 110, 150, 110, 100, 140, 110, 150, 100, 20, 30, 30, 20, 110, 120, 120, 110, 110, 30, 30, 100, 30, 30, 110, 30]\n"
     ]
    }
   ],
   "source": [
    "Căn chỉnh khoảng cách"
   ]
  }
 ],
 "metadata": {
  "kernelspec": {
   "display_name": "burma_card_reader",
   "language": "python",
   "name": "python3"
  },
  "language_info": {
   "codemirror_mode": {
    "name": "ipython",
    "version": 3
   },
   "file_extension": ".py",
   "mimetype": "text/x-python",
   "name": "python",
   "nbconvert_exporter": "python",
   "pygments_lexer": "ipython3",
   "version": "3.8.18"
  }
 },
 "nbformat": 4,
 "nbformat_minor": 2
}
