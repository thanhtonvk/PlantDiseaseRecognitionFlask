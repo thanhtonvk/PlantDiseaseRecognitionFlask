{
 "cells": [
  {
   "cell_type": "code",
   "execution_count": 2,
   "metadata": {},
   "outputs": [],
   "source": [
    "knownWidths = [\n",
    "            0.5, 1.7, 1.8, 2.0, 35.0, 2.5, 3.0, 2.5, 3.0, 0.3,\n",
    "            0.4, 0.75, 0.25, 1.5, 0.3, 0.25, 0.4, 1.8, 1.2, 2.0,\n",
    "            4.0, 1.5, 1.5, 2.5, 0.3, 0.5, 0.4, 0.2, 0.4, 0.2,\n",
    "            1.5, 1.5, 0.3, 0.5, 0.7, 0.3, 0.8, 1.5,\n",
    "            0.4, 0.3, 0.1, 0.1, 0.2, 0.3, 0.3, 0.3, 0.2, 0.2,\n",
    "            0.4, 0.4, 0.4, 0.4, 0.6, 0.4, 0.4, 0.4, 0.5, 1.5,\n",
    "            0.4, 2.0, 1.0, 0.5, 1.5, 0.3, 0.1, 0.2, 0.2, 0.1,\n",
    "            0.5, 0.6, 0.6, 0.4, 0.5, 0.2, 0.2, 0.3, 0.2, 0.2,\n",
    "            0.4, 0.2\n",
    "   ]"
   ]
  },
  {
   "cell_type": "code",
   "execution_count": 3,
   "metadata": {},
   "outputs": [],
   "source": [
    "widthInImages = []\n",
    "for alpha in knownWidths:\n",
    "    widthInImage = 0\n",
    "    if (alpha == 0.1):\n",
    "        widthInImage = 20\n",
    "    if (alpha == 0.2):\n",
    "        widthInImage = 30\n",
    "    if (alpha == 0.25):\n",
    "        widthInImage = 50\n",
    "    if (alpha == 0.3):\n",
    "        widthInImage = 100\n",
    "    if (alpha == 0.4):\n",
    "        widthInImage = 110\n",
    "    if (alpha == 0.5):\n",
    "        widthInImage = 110\n",
    "    if (alpha == 0.6):\n",
    "        widthInImage = 120\n",
    "    if (alpha == 0.7):\n",
    "        widthInImage = 130\n",
    "    if (alpha == 0.75):\n",
    "        widthInImage = 130\n",
    "    if (alpha == 0.8):\n",
    "        widthInImage = 140\n",
    "    if (alpha == 1.0):\n",
    "        widthInImage = 140\n",
    "    if (alpha == 1.2):\n",
    "        widthInImage = 140\n",
    "    if (alpha == 1.5):\n",
    "        widthInImage = 150\n",
    "    if (alpha == 1.7):\n",
    "        widthInImage = 170\n",
    "    if (alpha == 1.8):\n",
    "        widthInImage = 170\n",
    "    if (alpha == 2.0):\n",
    "        widthInImage = 100\n",
    "    if (alpha == 2.5):\n",
    "        widthInImage = 220\n",
    "    if (alpha == 3.0):\n",
    "        widthInImage = 250\n",
    "    if (alpha == 4.0):\n",
    "        widthInImage = 300\n",
    "    if (alpha == 35):\n",
    "        widthInImage = 3000\n",
    "    widthInImages.append(widthInImage)"
   ]
  },
  {
   "cell_type": "code",
   "execution_count": 3,
   "metadata": {},
   "outputs": [
    {
     "name": "stdout",
     "output_type": "stream",
     "text": [
      "{0: 'Stripe-Canker-high-stage', 1: 'Stripe-Canker-low-stage', 2: 'Stripe-Canker-medium-stage', 3: 'leaf-spot-high-stage', 4: 'leaf-spot-low-stage', 5: 'leaf-spot-medium-stage'}\n"
     ]
    }
   ],
   "source": [
    "from ultralytics import YOLO\n",
    "model = YOLO('models/cay que.pt')\n",
    "print(model.names)"
   ]
  },
  {
   "cell_type": "code",
   "execution_count": null,
   "metadata": {},
   "outputs": [],
   "source": [
    "names = {0: 'đốm đen', 1: 'xanh hóa', 2: 'ghẻ', 3: 'bọ trĩ'}"
   ]
  },
  {
   "cell_type": "code",
   "execution_count": null,
   "metadata": {},
   "outputs": [
    {
     "data": {
      "text/plain": [
       "'results_vang-la-o-cay-cam-quyt-buoi-chanh.jpg'"
      ]
     },
     "execution_count": 14,
     "metadata": {},
     "output_type": "execute_result"
    }
   ],
   "source": [
    "result = model.predict('vang la o cay cam quyt buoi chanh.jpg', verbose= False)[0]\n",
    "result.save()"
   ]
  },
  {
   "cell_type": "code",
   "execution_count": null,
   "metadata": {},
   "outputs": [],
   "source": [
    "{0: 'Stripe Canker high stage', 1: 'Stripe Canker low stage', 2: 'Stripe Canker medium stage', 3: 'leaf spot high stage', 4: 'leaf spot low stage', 5: 'leaf spot medium stage'}\n"
   ]
  },
  {
   "cell_type": "code",
   "execution_count": 6,
   "metadata": {},
   "outputs": [
    {
     "name": "stdout",
     "output_type": "stream",
     "text": [
      "['0: Đốm rong\\nGiải thích:\\nBệnh đốm rong gây các đốm màu xanh đậm, nâu hoặc đen trên lá. Đốm thường có viền rõ, đôi khi tạo cảm giác gồ ghề trên bề mặt. Bệnh làm giảm khả năng quang hợp và ảnh hưởng đến năng suất.\\nNguyên nhân:\\nRong thuộc chi Cephaleuros gây ra.\\nĐiều kiện ẩm ướt, thoát nước kém và cây trồng quá dày đặc.\\nLây lan qua nước mưa, gió hoặc bề mặt lá bị nhiễm bệnh.\\nCách điều trị:\\nVệ sinh vườn cây: Tỉa thưa cây và loại bỏ các lá nhiễm bệnh.\\nPhun thuốc trừ bệnh: Sử dụng Copper Hydroxide hoặc các loại thuốc gốc đồng khác để kiểm soát bệnh.\\nCải thiện điều kiện trồng trọt: Giảm độ ẩm và thoát nước tốt.\\n', '\\n1: Nấm rỉ sắt\\nGiải thích:\\nBệnh nấm rỉ sắt gây các đốm màu cam hoặc nâu đỏ giống như gỉ sắt ở mặt dưới lá. Khi bệnh nặng, lá khô héo và rụng sớm, làm giảm khả năng sinh trưởng của cây.\\nNguyên nhân:\\nNấm Hemileia vastatrix gây bệnh.\\nThời tiết ẩm ướt, nhiệt độ ấm là điều kiện thuận lợi cho nấm phát triển.\\nLây lan qua gió, nước mưa và bào tử nấm từ cây bệnh.\\nCách điều trị:\\nPhun thuốc phòng ngừa: Dùng thuốc chứa Mancozeb, Chlorothalonil, hoặc Propiconazole.\\nThu gom và tiêu hủy lá bệnh: Hạn chế nguồn lây lan.\\nTrồng giống kháng bệnh: Sử dụng giống cà phê có khả năng kháng nấm rỉ sắt.\\n', '\\n2: Phấn trắng\\nGiải thích:\\nBệnh phấn trắng gây một lớp bụi trắng hoặc xám phủ trên bề mặt lá. Lá bị bệnh sẽ vàng, khô, rụng sớm, làm giảm năng suất.\\nNguyên nhân:\\nNấm Leveillula taurica gây bệnh.\\nĐiều kiện khô nóng nhưng độ ẩm cao vào ban đêm thúc đẩy nấm phát triển.\\nLây lan qua gió hoặc tiếp xúc giữa các lá.\\nCách điều trị:\\nPhun thuốc bảo vệ thực vật: Dùng thuốc gốc lưu huỳnh (Sulfur) hoặc các loại thuốc như Hexaconazole, Difenoconazole.\\nCắt tỉa cây thông thoáng: Giảm độ ẩm trong vườn.\\nKiểm tra định kỳ: Phát hiện sớm để xử lý kịp thời.\\n', '\\n3: Sâu vẽ bùa\\nGiải thích:\\nSâu vẽ bùa gây ra các đường ngoằn ngoèo hoặc hình \"vẽ bùa\" trên lá. Khi nặng, lá bị cong, khô và rụng, làm giảm khả năng quang hợp của cây.\\nNguyên nhân:\\nẤu trùng của sâu vẽ bùa (Phyllocnistis citrella) gây ra.\\nĐiều kiện thời tiết ấm áp là môi trường thuận lợi cho sâu phát triển.\\nQuản lý cây không đúng cách khiến mật độ sâu gia tăng.\\nCách điều trị:\\nKiểm soát sâu: Phun thuốc trừ sâu chứa Abamectin, Imidacloprid hoặc Spinosad.\\nVệ sinh lá bị hại: Loại bỏ và tiêu hủy các lá bị sâu để giảm nguồn lây lan.\\nSử dụng bẫy pheromone: Thu hút và bắt sâu trưởng thành.\\n']\n"
     ]
    }
   ],
   "source": [
    "f = open('chua_benh/cafe.txt')\n",
    "lines = f.read()\n",
    "arr = lines.split(\"#\")\n",
    "print(arr)\n",
    "f.close()"
   ]
  }
 ],
 "metadata": {
  "kernelspec": {
   "display_name": "burma_card_reader",
   "language": "python",
   "name": "python3"
  },
  "language_info": {
   "codemirror_mode": {
    "name": "ipython",
    "version": 3
   },
   "file_extension": ".py",
   "mimetype": "text/x-python",
   "name": "python",
   "nbconvert_exporter": "python",
   "pygments_lexer": "ipython3",
   "version": "3.8.18"
  }
 },
 "nbformat": 4,
 "nbformat_minor": 2
}
